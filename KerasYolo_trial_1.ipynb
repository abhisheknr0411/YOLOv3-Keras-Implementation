{
  "nbformat": 4,
  "nbformat_minor": 0,
  "metadata": {
    "colab": {
      "name": "KerasYolo_trial_1.ipynb",
      "provenance": [],
      "collapsed_sections": [
        "AP2iu02qlqbb",
        "UUGkXhHsmNMD",
        "lyvNKPKDov0C"
      ]
    },
    "kernelspec": {
      "name": "python3",
      "display_name": "Python 3"
    },
    "accelerator": "GPU"
  },
  "cells": [
    {
      "cell_type": "markdown",
      "metadata": {
        "id": "AP2iu02qlqbb",
        "colab_type": "text"
      },
      "source": [
        "# Installing necessary dependencies\n",
        "YOLOv3 works with TensorFlow v1.14.0 and the same gpu version as well."
      ]
    },
    {
      "cell_type": "code",
      "metadata": {
        "id": "ZOhq8KUJ35FN",
        "colab_type": "code",
        "colab": {}
      },
      "source": [
        "!pip install tensorflow==1.14.0"
      ],
      "execution_count": 0,
      "outputs": []
    },
    {
      "cell_type": "code",
      "metadata": {
        "id": "wyMn7j7A4KuK",
        "colab_type": "code",
        "colab": {}
      },
      "source": [
        "!pip install tensorflow-gpu==1.14.0"
      ],
      "execution_count": 0,
      "outputs": []
    },
    {
      "cell_type": "markdown",
      "metadata": {
        "id": "cQasN4Ojl2Uv",
        "colab_type": "text"
      },
      "source": [
        "\n",
        "\n",
        "*   Mounting the drive to then use the %cd for setting current directory.\n",
        "*   Then using the !git clone for cloning the repository \" https://github.com/qqwweee/keras-yolo3 \".\n",
        "\n",
        "\n",
        "\n"
      ]
    },
    {
      "cell_type": "code",
      "metadata": {
        "id": "ckoUcc3BZFAP",
        "colab_type": "code",
        "colab": {}
      },
      "source": [
        "from google.colab import drive\n",
        "drive.mount('/content/drive')"
      ],
      "execution_count": 0,
      "outputs": []
    },
    {
      "cell_type": "code",
      "metadata": {
        "id": "6o3tyyJXvmQv",
        "colab_type": "code",
        "colab": {}
      },
      "source": [
        "%cd /content/gdrive/My Drive/project_folder"
      ],
      "execution_count": 0,
      "outputs": []
    },
    {
      "cell_type": "code",
      "metadata": {
        "id": "KV8naG2PwaYx",
        "colab_type": "code",
        "colab": {}
      },
      "source": [
        "!git clone https://github.com/qqwweee/keras-yolo3"
      ],
      "execution_count": 0,
      "outputs": []
    },
    {
      "cell_type": "markdown",
      "metadata": {
        "id": "UUGkXhHsmNMD",
        "colab_type": "text"
      },
      "source": [
        "# Running the Code as is.\n",
        "In this section, the !python is used to run the files inside the project_folder along with its supporting files.\n",
        "\n",
        "\n",
        "\n",
        "*   convert.py inside the keras-yolo3 uses the \"cfg_parser\" function to parse through the config files and the yolov3.weights to turn it into a keras model .h5 file\n",
        "*   the custom function upload and download to path is used to upload remote files, and if real-time detection is to be used, the this function can be commented out.\n",
        "\n"
      ]
    },
    {
      "cell_type": "code",
      "metadata": {
        "id": "UXnEOw5SwvAD",
        "colab_type": "code",
        "colab": {}
      },
      "source": [
        "!python '/content/gdrive/My Drive/project_folder/keras-yolo3/convert.py' '/content/gdrive/My Drive/project_folder/keras-yolo3/yolov3.cfg' '/content/gdrive/My Drive/project_folder/keras-yolo3/yolov3.weights' '/content/gdrive/My Drive/project_folder/keras-yolo3/model_data/yolo.h5'"
      ],
      "execution_count": 0,
      "outputs": []
    },
    {
      "cell_type": "code",
      "metadata": {
        "id": "fSrrOtwGy3zk",
        "colab_type": "code",
        "colab": {}
      },
      "source": [
        "def imShow(path):\n",
        "  import cv2\n",
        "  import matplotlib.pyplot as plt\n",
        "  %matplotlib inline\n",
        "\n",
        "  image = cv2.imread(path)\n",
        "  height, width = image.shape[:2]\n",
        "  resized_image = cv2.resize(image,(3*width, 3*height), interpolation = cv2.INTER_CUBIC)\n",
        "\n",
        "  fig = plt.gcf()\n",
        "  fig.set_size_inches(18, 10)\n",
        "  plt.axis(\"off\")\n",
        "  plt.imshow(cv2.cvtColor(resized_image, cv2.COLOR_BGR2RGB))\n",
        "  plt.show()\n",
        "\n",
        "# use this to upload files\n",
        "def upload():\n",
        "  from google.colab import files\n",
        "  uploaded = files.upload() \n",
        "  for name, data in uploaded.items():\n",
        "    with open(name, 'wb') as f:\n",
        "      f.write(data)\n",
        "      print ('saved file', name)\n",
        "\n",
        "# use this to download a file  \n",
        "def download(path):\n",
        "  from google.colab import files\n",
        "  files.download(path)"
      ],
      "execution_count": 0,
      "outputs": []
    },
    {
      "cell_type": "code",
      "metadata": {
        "id": "m8A9_QouzDyT",
        "colab_type": "code",
        "colab": {}
      },
      "source": [
        "upload()"
      ],
      "execution_count": 0,
      "outputs": []
    },
    {
      "cell_type": "markdown",
      "metadata": {
        "id": "lyvNKPKDov0C",
        "colab_type": "text"
      },
      "source": [
        "# Final Code Run\n",
        "\n",
        "The yolo_video.py, being the auxiliary code is run with the help of the main yolo architecture, base code being present in yolo.py module."
      ]
    },
    {
      "cell_type": "code",
      "metadata": {
        "id": "QkjofJua1vWf",
        "colab_type": "code",
        "colab": {}
      },
      "source": [
        "!python \"/content/gdrive/My Drive/project_folder/keras-yolo3/yolo_video.py\" "
      ],
      "execution_count": 0,
      "outputs": []
    }
  ]
}